{
 "cells": [
  {
   "cell_type": "markdown",
   "metadata": {},
   "source": [
    "# Introduction \n",
    "\n",
    "Quantum computations are expressed by quantum circuits, which consist of a list of gates, $G_1G_2...G_k$, each being a unitary matrix (a matrix $U$ is called unitary if $U^{-1}\\,{=}\\,U^\\dagger$).  The basic gates include the identity transformation($Id$) that performs no computation, and Pauli matrices : <br>\n",
    "<h3>\n",
    "$$Id = \\begin{bmatrix} 1 & 0 \\\\ 0 & 1 \\end{bmatrix}\\hspace{1cm}X = \\begin{bmatrix} 0 & 1 \\\\ 1 & 0 \\end{bmatrix}\\hspace{1cm}Y = \\begin{bmatrix} 0 & -i \\\\ i & 0 \\end{bmatrix}\\hspace{1cm}Z = \\begin{bmatrix} 1 & 0 \\\\ 0 & -1 \\end{bmatrix}$$\n",
    "</h3>\n",
    "<br>\n",
    "All single-qubit quantum computations $U_1$ can be obtained by multiplyingthe roots of Pauli matrices (also known as Euler’s angle decomposition. However, to implement quantum transformations spanning multiple qubits, we need gates spanning more than one qubit, otherwise known as entangling gates.  It turns out that it suffices to add a very simple gate, called the $\\text{CNOT}$ and defined as follows,\n",
    "<h3>\n",
    "$$ \\text{CNOT} = \\begin{pmatrix} 1 & 0 & 0 & 0 \\\\ 0 & 1 & 0 & 0 \\\\ 0 & 0 & 0 & 1 \\\\ 0 & 0 & 1 & 0 \\end{pmatrix},$$\n",
    "</h3>\n",
    "to obtain computational universality in the sense of the ability to express arbitrary transformations as circuits with $U$ and $\\text{CNOT}$ gates.  Both leading quantum computing technologies, superconducting circuits and trapped ions, allow a straightforward physical-level implementation of the above gates in practice. In both technologies, the cost of implementing the $\\text{CNOT}$ gate exceeds that of arbitrary single-qubit $U_1$ gates.  Thus, an efficient quantum computation minimizes the use of the $\\text{CNOT}$ gates\n",
    "\n",
    "For instance, the Toffoli gate, performing the transformation $|a,b,c\\rangle\\mapsto|a,b,c\\oplus ab\\rangle$, is a quantum version of the Boolean AND gate; it can be implemented as shown in Figure 1.\n",
    "![2560px-Qcircuit_ToffolifromCNOT.svg.png](2560px-Qcircuit_ToffolifromCNOT.svg.png \"ShowMyImage\")\n",
    "Figure 1: Implementation of the Toffoli gate using two Hadamard gates $\\text{H}$, six $\\text{CNOT}$ gates, and seven $\\text{T/}\\hspace{0.1cm}\\text{T}^\\dagger$gates (credit: Wikipedia).  Individual qubits are denoted by horizontal wires, time flows from left to right."
   ]
  },
  {
   "cell_type": "markdown",
   "metadata": {},
   "source": [
    "A quantum circuit is said to implement an $n$-input $m$-output Boolean function $f(x)$ if it computes the transformation $|x,0,0\\rangle \\mapsto e^{i\\theta(x)}|x,f(x),0\\rangle$ for some arbitrary real-valued function $\\theta(x)$, i.e., first part of the register passes unchanged, the second part accumulates the bit values of the desired function $f(x)$, and the third part, with $S$ qubits, is used as a computational scratch space. When $\\theta(x) \\equiv 2\\pi$, implying $e^{i\\theta(x)} \\equiv 1$, the implementation is called phaseless.  We consider the phase $\\theta(x)$ irrelevant in what follows, which is consistent with measuring the $m$ output bits immediately after implementing the circuit. Allowing the phase to take different values depending on the input introduces a degree of freedom that can be explored to obtain shorter circuits, as there are fewer conditions for the circuit to satisfy.  The total number of qubits spanned by such a circuit is $n\\,{+}\\,m\\,{+}\\,S$.  Note that the $S$-qubit scratch space needs to be returned to value $|0\\rangle$ as otherwise, the implementation may not be used in quantum algorithms due to unwanted entanglement residing on the unreset scratch qubits.\n"
   ]
  },
  {
   "cell_type": "markdown",
   "metadata": {},
   "source": [
    "# 1. Compute popcount function for n = 4 qubits\n",
    "Popcount, also known as the Hamming weight or simply weight, is a popular instruction in classical computing that is utilized in certain implementations of quantum algorithms. In particular, this includes Hamiltonian dynamics simulation algorithms, which are considered to be among the most important as they offer exponential advantage over best-known classical algorithms for solutions to practical problems (in areas such as many-body physics, materials research, and chemistry). For the Boolean $n$-tuple $(x_1,x_2,...,x_n)$, popcount is defined as the integer sum of inputs, \n",
    "<h3>\n",
    "$$\\text{Popcount}(x_1,x_2,...,x_n)=(y_1,y_2,...,y_m)=x_1+x_2+...+x_n, $$\n",
    "</h3>\n",
    "where $m=\\lfloor\\log(n)\\rfloor+1.$$"
   ]
  },
  {
   "cell_type": "markdown",
   "metadata": {},
   "source": [
    "The task here is two provide three QASM circuits computing the mappings $|x,0,0\\rangle \\mapsto e^{i\\theta_j(x)}|x,y_j(x),0\\rangle$ expressed using single-qubit and $\\text{CNOT}$ gates, where $(y_1,y_2,y_3) \\,{=}\\, \\text{Popcount}(x)$ is the 4-input 3-output Popcount function and $j \\in \\{1,2,3\\}$. Each of the three will be scored separately."
   ]
  },
  {
   "cell_type": "markdown",
   "metadata": {},
   "source": [
    "## a) Circuit for j = 1\n",
    "<h3>\n",
    "$$|x,0,0\\rangle \\mapsto e^{i\\theta_{1}(x)}|x,y_{1}(x),0\\rangle$$"
   ]
  },
  {
   "cell_type": "code",
   "execution_count": 2,
   "metadata": {},
   "outputs": [
    {
     "data": {
      "image/png": "[encoded data removed]",
      "text/plain": [
       "<Figure size 382.352x325.08 with 1 Axes>"
      ]
     },
     "metadata": {},
     "output_type": "display_data"
    }
   ],
   "source": [
    "# Importing the qiskit module\n",
    "from qiskit import *\n",
    "\n",
    "# Defining input, output and scratch qubits\n",
    "x = 4    # number of input qubits\n",
    "y1 =1   # number of output qubit \n",
    "s1 = 0   # number of scratch qubit\n",
    "\n",
    "# Defining Quantum Circuit with the given circuits\n",
    "def Circuit_1(In,Ou,Sc):\n",
    "    if Sc != 0:\n",
    "        # initiating required qubits\n",
    "        X = QuantumRegister(In, 'input') \n",
    "        Y = QuantumRegister(Ou, 'output') \n",
    "        S = QuantumRegister(Sc, 'scratch')  \n",
    "        \n",
    "        # creating circuit with above qubits\n",
    "        Circ = QuantumCircuit(X,Y,S)\n",
    "    else:\n",
    "        \n",
    "        # initiating required qubits\n",
    "        X = QuantumRegister(In, 'input') \n",
    "        Y= QuantumRegister(Ou, 'output')\n",
    "        \n",
    "        # creating circuit with above qubits\n",
    "        Circ = QuantumCircuit(X,Y)\n",
    "    \n",
    "    ##### Create you circuit below #########\n",
    "   # Circ.h(X)\n",
    "    for i in range(4):\n",
    "        #Circ.mct([X[i],Y[0],Y[1]],Y[2],S,mode='basic')\n",
    "        #Circ.ccx(X[i],Y[0],Y[1])\n",
    "        Circ.cx(X[i],Y[0])\n",
    "    #Circ.h(X)\n",
    "    ########################################\n",
    "    \n",
    "    # Uncomment to draw quantum circuit\n",
    "    display(Circ.draw('mpl'))\n",
    "    \n",
    "    # Transpiling the circuit into u, cnot\n",
    "    Circ = transpile(Circ, basis_gates=['u3','cx'],optimization_level=3)\n",
    "    \n",
    "    # Uncomment to draw transpiled circuit\n",
    "    #display(Circ.draw('mpl'))\n",
    "    \n",
    "    return Circ\n",
    "\n",
    "qc_1a = Circuit_1(x,y1,s1)"
   ]
  },
  {
   "cell_type": "markdown",
   "metadata": {},
   "source": [
    "### Grader"
   ]
  },
  {
   "cell_type": "code",
   "execution_count": 3,
   "metadata": {},
   "outputs": [
    {
     "name": "stdout",
     "output_type": "stream",
     "text": [
      "Grading your answer for ex1/partA. Please wait...\n",
      "\n",
      "Congratulations 🎉! Your answer is correct.\n",
      "Your cost is 8.\n",
      "Feel free to submit your answer.\r\n",
      "\n"
     ]
    }
   ],
   "source": [
    "from qc_grader import grade_ex1a\n",
    "\n",
    "grade_ex1a(qc_1a)"
   ]
  },
  {
   "cell_type": "markdown",
   "metadata": {},
   "source": [
    "## b) Circuit for j = 2\n",
    "<h3>\n",
    " $$|x,0,0\\rangle \\mapsto e^{i\\theta_{2}(x)}|x,y_{2}(x),0\\rangle$$"
   ]
  },
  {
   "cell_type": "code",
   "execution_count": 3,
   "metadata": {},
   "outputs": [
    {
     "data": {
      "image/png": "[encoded data removed]",
      "text/plain": [
       "<Figure size 1044.55x325.08 with 1 Axes>"
      ]
     },
     "metadata": {},
     "output_type": "display_data"
    }
   ],
   "source": [
    "# Importing the qiskit module\n",
    "from qiskit import *\n",
    "from math import pi\n",
    "\n",
    "# Defining input, output and scratch qubits\n",
    "x =4     # number of input qubits\n",
    "y2 =1    # number of output qubit \n",
    "s2 =0    # number of scratch qubit\n",
    "\n",
    "# Defining Quantum Circuit with the given circuits\n",
    "def Circuit_2(In,Ou,Sc):\n",
    "    if Sc != 0:\n",
    "        # initiating required qubits\n",
    "        X = QuantumRegister(In, 'input') \n",
    "        Y = QuantumRegister(Ou, 'output') \n",
    "        S = QuantumRegister(Sc, 'scratch')  \n",
    "        \n",
    "        # creating circuit with above qubits\n",
    "        Circ = QuantumCircuit(X,Y,S)\n",
    "    else:\n",
    "        \n",
    "        # initiating required qubits\n",
    "        X = QuantumRegister(In, 'input') \n",
    "        Y= QuantumRegister(Ou, 'output') \n",
    "        \n",
    "        # creating circuit with above qubits\n",
    "        Circ = QuantumCircuit(X,Y)\n",
    "    \n",
    "    ##### Create you circuit below #########\n",
    "    #Circ.mct([X[0],X[1]],Y[0])\n",
    "   # Circ.h(X)\n",
    "    #Circ.barrier()\n",
    "    #for i in range(4):\n",
    "        #Circ.mct([X[i],Y[0],Y[1]],Y[2],S,mode='basic')\n",
    "    adder = QuantumCircuit(4, \n",
    "                       name='adder')\n",
    "    adder.h(3)\n",
    "    adder.cx(0, 2)\n",
    "    adder.t(3)\n",
    "    adder.cx(2, 3)\n",
    "    adder.t(3)\n",
    "    adder.cx(0, 3)\n",
    "    adder.sdg(3)\n",
    "    adder.cx(1, 3)\n",
    "    adder.t(3)\n",
    "    adder.cx(2, 3)\n",
    "    adder.cx(1, 2)\n",
    "    adder.tdg(3)\n",
    "    adder.h(3)\n",
    "    Circ.compose(adder, \n",
    "                 [X[0], X[1], X[2], Y[0]], \n",
    "                 inplace=True)\n",
    "    Circ.rccx(X[2], X[3], Y[0])\n",
    "    Circ.cx(X[1], X[2])\n",
    "    Circ.cx(X[0], X[2])\n",
    "    #rccx(Circ,X[0],X[1],Y[0])\n",
    "    #Circ.append(rccx_opt(),[X[0],X[2],Y[0]])\n",
    "    #Circ.append(rccx_opt(),[X[0],X[3],Y[0]])\n",
    "    #Circ.append(rccx_opt(),[X[1],X[2],Y[0]])\n",
    "    #Circ.append(rccx_opt(),[X[1],X[3],Y[0]])\n",
    "    #Circ.append(rccx_opt(),[X[2],X[3],Y[0]])\n",
    "    ########################################\n",
    "    #Circ.h(X)\n",
    "    # Uncomment to draw quantum circuit\n",
    "    display(Circ.draw('mpl'))\n",
    "    \n",
    "    # Transpiling the circuit into u, cnot\n",
    "    Circ = transpile(Circ, basis_gates=['u3','cx'],optimization_level=3)\n",
    "    \n",
    "    # Uncomment to draw transpiled circuit\n",
    "    #display(Circ.draw('mpl'))\n",
    "    \n",
    "    return Circ\n",
    "\n",
    "qc_1b = Circuit_2(x,y2,s2)"
   ]
  },
  {
   "cell_type": "markdown",
   "metadata": {},
   "source": [
    "### Grader"
   ]
  },
  {
   "cell_type": "code",
   "execution_count": 22,
   "metadata": {},
   "outputs": [
    {
     "name": "stdout",
     "output_type": "stream",
     "text": [
      "Grading your answer for ex1/partB. Please wait...\n",
      "\n",
      "Congratulations 🎉! Your answer is correct.\n",
      "Your cost is 20.\n",
      "Feel free to submit your answer.\n",
      "\n"
     ]
    }
   ],
   "source": [
    "from qc_grader import grade_ex1b\n",
    "\n",
    "grade_ex1b(qc_1b)"
   ]
  },
  {
   "cell_type": "markdown",
   "metadata": {},
   "source": [
    "## c) Circuit for j = 3\n",
    "<h3>\n",
    " $$|x,0,0\\rangle \\mapsto e^{i\\theta_{3}(x)}|x,y_{3}(x),0\\rangle$$"
   ]
  },
  {
   "cell_type": "code",
   "execution_count": 5,
   "metadata": {},
   "outputs": [
    {
     "data": {
      "image/png": "[encoded data removed]",
      "text/plain": [
       "<Figure size 751.624x445.48 with 1 Axes>"
      ]
     },
     "metadata": {},
     "output_type": "display_data"
    }
   ],
   "source": [
    "# Importing the qiskit module\n",
    "from qiskit import *\n",
    "from math import pi\n",
    "\n",
    "# Defining input, output and scratch qubits\n",
    "x =4     # number of input qubits\n",
    "y3 =1    # number of output qubit \n",
    "s3 =2    # number of scratch qubit\n",
    "\n",
    "# Defining Quantum Circuit with the given circuits\n",
    "def Circuit_3(In,Ou,Sc):\n",
    "    if Sc != 0:\n",
    "        # initiating required qubits\n",
    "        X = QuantumRegister(In, 'input') \n",
    "        Y = QuantumRegister(Ou, 'output') \n",
    "        S = QuantumRegister(Sc, 'scratch')  \n",
    "        \n",
    "        # creating circuit with above qubits\n",
    "        Circ = QuantumCircuit(X,Y,S)\n",
    "    else:\n",
    "        \n",
    "        # initiating required qubits\n",
    "        X = QuantumRegister(In, 'input') \n",
    "        Y = QuantumRegister(Ou, 'output') \n",
    "        \n",
    "        # creating circuit with above qubits\n",
    "        Circ = QuantumCircuit(X,Y)\n",
    "    \n",
    "    ##### Create you circuit below #########\n",
    "    \n",
    "    Circ.rccx(X[0],X[1],S[0])\n",
    "    Circ.rccx(X[2],X[3],S[1])\n",
    "    Circ.rccx(S[1],S[0],Y[0])\n",
    "    Circ.rccx(X[2],X[3],S[1])\n",
    "    Circ.rccx(X[0],X[1],S[0])\n",
    "    ########################################\n",
    "    \n",
    "    # Uncomment to draw quantum circuit\n",
    "    display(Circ.draw('mpl'))\n",
    "   # print(Circ.qasm())\n",
    "    \n",
    "    # Transpiling the circuit into u, cnot\n",
    "    Circ = transpile(Circ, basis_gates=['u3','cx'],optimization_level=3)\n",
    "    \n",
    "    # Uncomment to draw transpiled circuit\n",
    "    #display(Circ.draw('mpl'))\n",
    "    \n",
    "    return Circ\n",
    "\n",
    "qc_1c = Circuit_3(x,y3,s3)"
   ]
  },
  {
   "cell_type": "markdown",
   "metadata": {},
   "source": [
    "### Grader"
   ]
  },
  {
   "cell_type": "code",
   "execution_count": 25,
   "metadata": {},
   "outputs": [
    {
     "name": "stdout",
     "output_type": "stream",
     "text": [
      "Grading your answer for ex1/partC. Please wait...\n",
      "\n",
      "Congratulations 🎉! Your answer is correct.\n",
      "Your cost is 28.\n",
      "Feel free to submit your answer.\n",
      "\n"
     ]
    }
   ],
   "source": [
    "from qc_grader import grade_ex1c\n",
    "\n",
    "grade_ex1c(qc_1c)"
   ]
  },
  {
   "cell_type": "markdown",
   "metadata": {},
   "source": [
    "# Circuit verification and Cost Metric\n",
    "\n",
    "$\\textbf{Costing metric:}$ Circuit implementation cost is computed as follows, \n",
    "$$\\text{Cost} = G+D+\\frac{nS}{2},$$ \n",
    "where $G$ is the number of $\\text{CNOT}$ gates used (note how the single-qubit gates are \"free\", which takes into account their relatively small implementation cost), $D$ is the two-qubit circuit depth (defined as the maximum length of the shortest path from any starting qubit to any ending qubit in the circuit going left, up, or down along the lines in the circuit diagram and counting the number of two-qubit gates), and $S$ is the number of scratch qubits used.  The timeout for verification is set to $5$ minutes.  All implementations that time out or compute any of the popcount outputs incorrectly are assigned the score of ${+}\\infty$; the implementation with the smallest value of $\\text{Cost}$ wins."
   ]
  },
  {
   "cell_type": "markdown",
   "metadata": {},
   "source": [
    "### Submission for evaluation "
   ]
  },
  {
   "cell_type": "code",
   "execution_count": 26,
   "metadata": {},
   "outputs": [
    {
     "name": "stdout",
     "output_type": "stream",
     "text": [
      "Submitting your answer for ex1/partA. Please wait...\n",
      "Success 🎉! Your answer has been submitted.\n",
      "Submitting your answer for ex1/partB. Please wait...\n",
      "Success 🎉! Your answer has been submitted.\n",
      "Submitting your answer for ex1/partC. Please wait...\n",
      "Success 🎉! Your answer has been submitted.\n"
     ]
    }
   ],
   "source": [
    "## Uncomment and run the following code to submit\n",
    "from qc_grader import submit_ex1a, submit_ex1b, submit_ex1c\n",
    "submit_ex1a(qc_1a)  #To submit exercise 1a\n",
    "\n",
    "submit_ex1b(qc_1b)  #To submit exercise 1b\n",
    "submit_ex1c(qc_1c)  #To submit exercise 1c"
   ]
  },
  {
   "cell_type": "code",
   "execution_count": null,
   "metadata": {},
   "outputs": [],
   "source": []
  }
 ],
 "metadata": {
  "kernelspec": {
   "display_name": "Python 3",
   "language": "python",
   "name": "python3"
  },
  "language_info": {
   "codemirror_mode": {
    "name": "ipython",
    "version": 3
   },
   "file_extension": ".py",
   "mimetype": "text/x-python",
   "name": "python",
   "nbconvert_exporter": "python",
   "pygments_lexer": "ipython3",
   "version": "3.8.6"
  }
 },
 "nbformat": 4,
 "nbformat_minor": 4
}
